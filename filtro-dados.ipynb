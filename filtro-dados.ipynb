{
 "cells": [
  {
   "cell_type": "code",
   "execution_count": null,
   "metadata": {},
   "outputs": [],
   "source": [
    "import numpy as np\n",
    "import pandas as pd\n",
    "\n",
    "data = pd.read_csv('aluguel.csv', sep=';')\n",
    "print(data)\n",
    "\n",
    "#Seleção dos imóveis classificados com tipo 'Apartamento'\n",
    "selecao = data['Tipo'] == 'Apartamento'\n",
    "s1 = data[selecao]\n",
    "print(s1)\n",
    "\n",
    "#Seleção dos imóveis com área entre 100 e 200 metros quadrados\n",
    "selecao = (data['Area'] >= 100) & (data['Area'] <= 200)\n",
    "s2 = data[selecao]\n",
    "print(s2)\n"
   ]
  }
 ],
 "metadata": {
  "interpreter": {
   "hash": "1f6d3121ba12591f69533b6967b97149cb3e81ee343415b9793447a1e693baee"
  },
  "kernelspec": {
   "display_name": "Python 3.8.5 64-bit",
   "language": "python",
   "name": "python3"
  },
  "language_info": {
   "codemirror_mode": {
    "name": "ipython",
    "version": 3
   },
   "file_extension": ".py",
   "mimetype": "text/x-python",
   "name": "python",
   "nbconvert_exporter": "python",
   "pygments_lexer": "ipython3",
   "version": "3.10.2"
  },
  "orig_nbformat": 4
 },
 "nbformat": 4,
 "nbformat_minor": 2
}
