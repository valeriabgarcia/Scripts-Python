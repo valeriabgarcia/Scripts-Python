{
 "cells": [
  {
   "cell_type": "code",
   "execution_count": null,
   "metadata": {},
   "outputs": [],
   "source": [
    "import math\n",
    "\n",
    "def menu():\n",
    "    print ('1 --- Create file' )\n",
    "    print ('2 --- Enter your name e see \"Hello!\"' )\n",
    "    print ('3 --- See the value of number pi' )\n",
    "    print ('4 --- Exit' )\n",
    "\n",
    "option = int(input('Enter your choice: '))\n",
    "\n",
    "def option1():\n",
    "    file = open('my-file-created.txt','w+')\n",
    "    file.write(\"This is a new file !!!\")\n",
    "\n",
    "def option2():\n",
    "    name = input(\"Enter your name: \")\n",
    "    print(\"Hello, \", name + \"!\")\n",
    "\n",
    "def option3():\n",
    "    print(f'The value of pi is {math.pi:.5f}.')\n",
    "        \n",
    "if option == 1:\n",
    "    option1()\n",
    "elif option == 2:\n",
    "    option2()\n",
    "elif option == 3:\n",
    "    option3()\n",
    "elif option == 4:\n",
    "    print('Exiting')\n",
    "    exit()\n",
    "else:\n",
    "    print('Invalid option. Please enter a number between 1 and 4.')"
   ]
  }
 ],
 "metadata": {
  "interpreter": {
   "hash": "bed2659f818a0c1122a00de56422cd8cd92508176f90cf4cc265e5fb29f7550a"
  },
  "kernelspec": {
   "display_name": "Python 3.10.2 64-bit (system)",
   "language": "python",
   "name": "python3"
  },
  "language_info": {
   "codemirror_mode": {
    "name": "ipython",
    "version": 3
   },
   "file_extension": ".py",
   "mimetype": "text/x-python",
   "name": "python",
   "nbconvert_exporter": "python",
   "pygments_lexer": "ipython3",
   "version": "3.10.2"
  },
  "orig_nbformat": 4
 },
 "nbformat": 4,
 "nbformat_minor": 2
}
